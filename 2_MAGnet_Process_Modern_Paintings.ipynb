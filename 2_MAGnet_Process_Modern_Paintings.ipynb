{
  "nbformat": 4,
  "nbformat_minor": 0,
  "metadata": {
    "colab": {
      "name": "2 MAGnet Process Modern Paintings",
      "provenance": [],
      "collapsed_sections": [],
      "authorship_tag": "ABX9TyPzlvjxXrrnfU3PoxOZNy5U",
      "include_colab_link": true
    },
    "kernelspec": {
      "name": "python3",
      "display_name": "Python 3"
    }
  },
  "cells": [
    {
      "cell_type": "markdown",
      "metadata": {
        "id": "view-in-github",
        "colab_type": "text"
      },
      "source": [
        "<a href=\"https://colab.research.google.com/github/robgon-art/MAGnet/blob/main/2_MAGnet_Process_Modern_Paintings.ipynb\" target=\"_parent\"><img src=\"https://colab.research.google.com/assets/colab-badge.svg\" alt=\"Open In Colab\"/></a>"
      ]
    },
    {
      "cell_type": "code",
      "metadata": {
        "id": "JZMf_VvYUDpM"
      },
      "source": [
        "from google.colab import drive\n",
        "drive.mount('/content/drive')"
      ],
      "execution_count": null,
      "outputs": []
    },
    {
      "cell_type": "code",
      "metadata": {
        "id": "eWDhRdqkdl-W"
      },
      "source": [
        "!mkdir /content/drive/MyDrive/modern_art_resized_512\n",
        "!mkdir /content/drive/MyDrive/modern_art_resized_512/paintings"
      ],
      "execution_count": null,
      "outputs": []
    },
    {
      "cell_type": "code",
      "metadata": {
        "id": "sRrM6zJGnGzb"
      },
      "source": [
        "import glob\n",
        "image_files = sorted(glob.glob(\"/content/drive/MyDrive/modern_paintings*/*.jpg\"))\n",
        "num_files = len(image_files)\n",
        "print(num_files)"
      ],
      "execution_count": null,
      "outputs": []
    },
    {
      "cell_type": "code",
      "metadata": {
        "id": "K2MaiZiqd6OF"
      },
      "source": [
        "from PIL import Image\n",
        "import matplotlib.pyplot as plt\n",
        "\n",
        "def save_image(file, img, side):\n",
        "  parts = file.split(\"/\")\n",
        "  path = \"/content/drive/MyDrive/modern_art_resized_512/paintings/\" + parts[-1][:-4:] + side + \".jpg\"\n",
        "  # print(path)\n",
        "  print(str(i).zfill(4), \"of\", num_files, path)\n",
        "  img.save(path)\n",
        "\n",
        "for i, file in enumerate(sorted(image_files)):\n",
        "  try:\n",
        "    img = Image.open(file)\n",
        "    img = img.convert('RGB')\n",
        "  except:\n",
        "    continue\n",
        "  width, height = img.size\n",
        "\n",
        "  if (width > height): # wide\n",
        "    # print(\"wide\")\n",
        "    img1 = img.crop((0, 0, height, height))\n",
        "    img1 = img1.resize((512, 512))\n",
        "    save_image(file, img1, \"_lft\")\n",
        "\n",
        "    offset = (width-height) // 2\n",
        "    img2 = img.crop((offset, 0, height+offset, height))\n",
        "    img2 = img2.resize((512, 512))\n",
        "    save_image(file, img2, \"_ctr\")\n",
        "\n",
        "    img3 = img.crop((width-height, 0, width, height))\n",
        "    img3 = img3.resize((512, 512))\n",
        "    save_image(file, img3, \"_rgt\")\n",
        "\n",
        "  elif (height > width): # tall\n",
        "    # print(\"tall\")\n",
        "    img1 = img.crop((0, 0, width, width))\n",
        "    img1 = img1.resize((512, 512))\n",
        "    save_image(file, img1, \"_top\")\n",
        "\n",
        "    offset = (height-width) // 2\n",
        "    img2 = img.crop((0, offset, width, width+offset))\n",
        "    img2 = img2.resize((512, 512))\n",
        "    save_image(file, img2, \"_ctr\")\n",
        "\n",
        "    img3 = img.crop((0, height-width, width, height))\n",
        "    img3 = img3.resize((512, 512))\n",
        "    save_image(file, img3, \"_bot\")\n",
        "\n",
        "  else: # square\n",
        "    # print(\"square\")\n",
        "    img1 = img\n",
        "    save_image(file, img1, \"\")\n",
        "\n",
        "  # imgplot = plt.imshow(img1)\n",
        "  # plt.axis(\"off\")\n",
        "  # plt.show()\n",
        "  # imgplot = plt.imshow(img2)\n",
        "  # plt.axis(\"off\")\n",
        "  # plt.show()\n",
        "  # imgplot = plt.imshow(img3)\n",
        "  # plt.axis(\"off\")\n",
        "  # plt.show()\n",
        "\n",
        "  # if i > 5:\n",
        "  #   break"
      ],
      "execution_count": null,
      "outputs": []
    }
  ]
}